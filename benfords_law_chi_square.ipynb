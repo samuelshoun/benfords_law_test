{
 "cells": [
  {
   "cell_type": "markdown",
   "id": "explicit-federation",
   "metadata": {},
   "source": [
    "---\n",
    "# Use chi-squared to test goodness-of-fit to Benford's Law.\n",
    "\n",
    "Learn about Benford's Law here: https://en.wikipedia.org/wiki/Benford%27s_law\n",
    "\n",
    "---"
   ]
  },
  {
   "cell_type": "code",
   "execution_count": 1,
   "id": "powered-speed",
   "metadata": {},
   "outputs": [],
   "source": [
    "# import relevant libraries:\n",
    "\n",
    "import numpy as np\n",
    "import re\n",
    "\n",
    "from scipy import stats\n",
    "\n",
    "import matplotlib.pyplot as plt\n",
    "import seaborn as sns\n",
    "sns.set()"
   ]
  },
  {
   "cell_type": "code",
   "execution_count": 2,
   "id": "round-appeal",
   "metadata": {},
   "outputs": [],
   "source": [
    "# define a function for the task at issue:\n",
    "\n",
    "def benfords_test(a, alpha=.05):\n",
    "\n",
    "    '''\n",
    "    This function imputes an array-like series of numbers, grabs the first\n",
    "    digit from each, then categorically counts the frequency of each first digit [1-9].\n",
    "    It subjects the observed distribution to a chi-squared test using the expected\n",
    "    distribution adhering to Benford's Law.\n",
    "\n",
    "    The user also defines an alpha (significance level).\n",
    "    \n",
    "    For this test:\n",
    "        - H0: The numbers adhere to Benford's Law\n",
    "        - Ha: The numbers do not adhere to Benford's Law\n",
    "\n",
    "    The function returns a dictionary containing:\n",
    "    - The chi cquared paramenter,\n",
    "    - The associated P-value,\n",
    "    - A statement of implications (rejection or failure to reject H0, respecting alpha);\n",
    "\n",
    "    as well as,\n",
    "    - A chart showing the histogram of first digits versus a line through expected values.\n",
    "    '''\n",
    "    \n",
    "    \n",
    "    first_digs = [re.search('[1-9]', str(i))[0] for i in a]  # extract the first digit in each element\n",
    "    \n",
    "    # make a list of categories for counting frequency of each first digit:\n",
    "    labels = []\n",
    "    digits = np.arange(1,10)\n",
    "    for i in digits:\n",
    "        labels.append(str(i))\n",
    "    \n",
    "    # populate the frequency of first digits as percent of observations:\n",
    "    dig_pct = []\n",
    "    for i in digits:\n",
    "        ct = first_digs.count(str(i))\n",
    "        pct = 100 * ct / len(first_digs)   # use percent rather than decimal to avoid squaring decimals\n",
    "        dig_pct.append(pct)\n",
    "    \n",
    "    # define arrays of observed and expected values for easy computation:\n",
    "    obs = np.array(dig_pct)\n",
    "    exp = np.array([30.103, 17.6091, 12.4939, 9.691, 7.91812, 6.69468, 5.79919, 5.11525, 4.57575])\n",
    "    \n",
    "    # calculate the chi squared parameter:\n",
    "    chi2 = sum((obs-exp)**2/exp)\n",
    "    \n",
    "    # calculate the associated P-value:\n",
    "    P = 1 - stats.chi2.cdf(chi2, 8)\n",
    "    \n",
    "    # format the parameters for easier viewing the output:\n",
    "    P = float('{:.2g}'.format(P))\n",
    "    chi2 = float('{:.4g}'.format(chi2))\n",
    "\n",
    "    # define the evidence statement for the output:\n",
    "    if P < alpha:\n",
    "        sig_string = 'There is sufficient evidence to reject H0. The data probably do NOT follow Benford\\'s Law'\n",
    "    else:\n",
    "        sig_string = 'There is insufficient evidence to reject H0. The data probably DO follow Benford\\'s Law'\n",
    "    \n",
    "    # define the outputs in a dictionary:\n",
    "    result = {'Chi-Square Parameter': chi2, 'P-value': P, 'Significance': sig_string}\n",
    "    \n",
    "    # display a simple chart of the observed & expected distributions:\n",
    "    plt.bar(labels, obs)\n",
    "    plt.plot(labels, exp, c='r')\n",
    "    \n",
    "    return result"
   ]
  },
  {
   "cell_type": "code",
   "execution_count": 3,
   "id": "adjacent-caribbean",
   "metadata": {},
   "outputs": [
    {
     "data": {
      "text/plain": [
       "{'Chi-Square Parameter': 3.72,\n",
       " 'P-value': 0.88,\n",
       " 'Significance': \"There is insufficient evidence to reject H0. The data probably DO follow Benford's Law\"}"
      ]
     },
     "execution_count": 3,
     "metadata": {},
     "output_type": "execute_result"
    },
    {
     "data": {
      "image/png": "[encoded data removed]",
      "text/plain": [
       "<Figure size 432x288 with 1 Axes>"
      ]
     },
     "metadata": {},
     "output_type": "display_data"
    }
   ],
   "source": [
    "# quick test of the function:\n",
    "\n",
    "norm = np.random.normal(size=1000)\n",
    "\n",
    "benfords_test(norm)"
   ]
  },
  {
   "cell_type": "code",
   "execution_count": 4,
   "id": "applied-orleans",
   "metadata": {},
   "outputs": [
    {
     "data": {
      "text/plain": [
       "array([1, 1, 1, 1, 1, 1, 1, 1, 1, 1, 1, 1, 1, 1, 1, 1, 1, 1, 1, 1, 1, 1,\n",
       "       1, 1, 1, 1, 1, 1, 1, 1, 2, 2, 2, 2, 2, 2, 2, 2, 2, 2, 2, 2, 2, 2,\n",
       "       2, 2, 2, 2, 3, 3, 3, 3, 3, 3, 3, 3, 3, 3, 3, 3, 4, 4, 4, 4, 4, 4,\n",
       "       4, 4, 4, 4, 5, 5, 5, 5, 5, 5, 5, 5, 6, 6, 6, 6, 6, 6, 6, 7, 7, 7,\n",
       "       7, 7, 7, 8, 8, 8, 8, 8, 9, 9, 9, 9, 9])"
      ]
     },
     "execution_count": 4,
     "metadata": {},
     "output_type": "execute_result"
    }
   ],
   "source": [
    "# define an array that definitely adheres to Benford's Law:\n",
    "\n",
    "definitely_benfords = np.concatenate([np.repeat(1, 30), \n",
    "               np.repeat(2, 18), \n",
    "               np.repeat(3, 12), \n",
    "               np.repeat(4, 10), \n",
    "               np.repeat(5, 8), \n",
    "               np.repeat(6, 7), \n",
    "               np.repeat(7, 6), \n",
    "              np.repeat(8, 5), \n",
    "              np.repeat(9, 5)])\n",
    "\n",
    "definitely_benfords"
   ]
  },
  {
   "cell_type": "code",
   "execution_count": 5,
   "id": "verbal-artwork",
   "metadata": {},
   "outputs": [
    {
     "data": {
      "text/plain": [
       "{'Chi-Square Parameter': 0.09025,\n",
       " 'P-value': 1.0,\n",
       " 'Significance': \"There is insufficient evidence to reject H0. The data probably DO follow Benford's Law\"}"
      ]
     },
     "execution_count": 5,
     "metadata": {},
     "output_type": "execute_result"
    },
    {
     "data": {
      "image/png": "[encoded data removed]",
      "text/plain": [
       "<Figure size 432x288 with 1 Axes>"
      ]
     },
     "metadata": {},
     "output_type": "display_data"
    }
   ],
   "source": [
    "# test the function with numbers definitely adhering to Benford's Law:\n",
    "\n",
    "benfords_test(definitely_benfords)"
   ]
  },
  {
   "cell_type": "code",
   "execution_count": 6,
   "id": "african-pacific",
   "metadata": {},
   "outputs": [
    {
     "data": {
      "text/plain": [
       "array([60.36097378, 48.12315442, 52.38954884, 53.6682717 , 47.8783884 ,\n",
       "       51.80008794, 43.16768077, 51.41246562, 50.05517199, 52.84317238,\n",
       "       49.43688487, 51.72163191, 53.82356403, 37.60874266, 54.20544939,\n",
       "       46.03249998, 51.05196341, 48.80187159, 57.0688192 , 60.5683335 ])"
      ]
     },
     "execution_count": 6,
     "metadata": {},
     "output_type": "execute_result"
    }
   ],
   "source": [
    "# define an array that definitely does not follow Benford's Law:\n",
    "\n",
    "definitely_not_benfords = np.random.normal(50, 5, size=1000)\n",
    "definitely_not_benfords[:20]"
   ]
  },
  {
   "cell_type": "code",
   "execution_count": 7,
   "id": "chicken-amsterdam",
   "metadata": {},
   "outputs": [
    {
     "data": {
      "text/plain": [
       "{'Chi-Square Parameter': 426.5,\n",
       " 'P-value': 0.0,\n",
       " 'Significance': \"There is sufficient evidence to reject H0. The data probably do NOT follow Benford's Law\"}"
      ]
     },
     "execution_count": 7,
     "metadata": {},
     "output_type": "execute_result"
    },
    {
     "data": {
      "image/png": "[encoded data removed]",
      "text/plain": [
       "<Figure size 432x288 with 1 Axes>"
      ]
     },
     "metadata": {},
     "output_type": "display_data"
    }
   ],
   "source": [
    "# test the function with numbers definitely now following Benford's Law:\n",
    "\n",
    "benfords_test(definitely_not_benfords)"
   ]
  },
  {
   "cell_type": "markdown",
   "id": "finnish-girlfriend",
   "metadata": {},
   "source": [
    "---\n",
    "## Now I'll test the function on a few datasets with uncertain outcomes.\n",
    "---"
   ]
  },
  {
   "cell_type": "code",
   "execution_count": 8,
   "id": "devoted-alliance",
   "metadata": {},
   "outputs": [
    {
     "data": {
      "text/html": [
       "<div>\n",
       "<style scoped>\n",
       "    .dataframe tbody tr th:only-of-type {\n",
       "        vertical-align: middle;\n",
       "    }\n",
       "\n",
       "    .dataframe tbody tr th {\n",
       "        vertical-align: top;\n",
       "    }\n",
       "\n",
       "    .dataframe thead th {\n",
       "        text-align: right;\n",
       "    }\n",
       "</style>\n",
       "<table border=\"1\" class=\"dataframe\">\n",
       "  <thead>\n",
       "    <tr style=\"text-align: right;\">\n",
       "      <th></th>\n",
       "      <th>method</th>\n",
       "      <th>number</th>\n",
       "      <th>orbital_period</th>\n",
       "      <th>mass</th>\n",
       "      <th>distance</th>\n",
       "      <th>year</th>\n",
       "    </tr>\n",
       "  </thead>\n",
       "  <tbody>\n",
       "    <tr>\n",
       "      <th>0</th>\n",
       "      <td>Radial Velocity</td>\n",
       "      <td>1</td>\n",
       "      <td>269.300</td>\n",
       "      <td>7.10</td>\n",
       "      <td>77.40</td>\n",
       "      <td>2006</td>\n",
       "    </tr>\n",
       "    <tr>\n",
       "      <th>1</th>\n",
       "      <td>Radial Velocity</td>\n",
       "      <td>1</td>\n",
       "      <td>874.774</td>\n",
       "      <td>2.21</td>\n",
       "      <td>56.95</td>\n",
       "      <td>2008</td>\n",
       "    </tr>\n",
       "    <tr>\n",
       "      <th>2</th>\n",
       "      <td>Radial Velocity</td>\n",
       "      <td>1</td>\n",
       "      <td>763.000</td>\n",
       "      <td>2.60</td>\n",
       "      <td>19.84</td>\n",
       "      <td>2011</td>\n",
       "    </tr>\n",
       "    <tr>\n",
       "      <th>3</th>\n",
       "      <td>Radial Velocity</td>\n",
       "      <td>1</td>\n",
       "      <td>326.030</td>\n",
       "      <td>19.40</td>\n",
       "      <td>110.62</td>\n",
       "      <td>2007</td>\n",
       "    </tr>\n",
       "    <tr>\n",
       "      <th>4</th>\n",
       "      <td>Radial Velocity</td>\n",
       "      <td>1</td>\n",
       "      <td>516.220</td>\n",
       "      <td>10.50</td>\n",
       "      <td>119.47</td>\n",
       "      <td>2009</td>\n",
       "    </tr>\n",
       "  </tbody>\n",
       "</table>\n",
       "</div>"
      ],
      "text/plain": [
       "            method  number  orbital_period   mass  distance  year\n",
       "0  Radial Velocity       1         269.300   7.10     77.40  2006\n",
       "1  Radial Velocity       1         874.774   2.21     56.95  2008\n",
       "2  Radial Velocity       1         763.000   2.60     19.84  2011\n",
       "3  Radial Velocity       1         326.030  19.40    110.62  2007\n",
       "4  Radial Velocity       1         516.220  10.50    119.47  2009"
      ]
     },
     "execution_count": 8,
     "metadata": {},
     "output_type": "execute_result"
    }
   ],
   "source": [
    "planets = sns.load_dataset('planets').dropna()\n",
    "planets.head()"
   ]
  },
  {
   "cell_type": "code",
   "execution_count": 9,
   "id": "legitimate-plaza",
   "metadata": {},
   "outputs": [
    {
     "data": {
      "text/plain": [
       "{'Chi-Square Parameter': 3.426,\n",
       " 'P-value': 0.9,\n",
       " 'Significance': \"There is insufficient evidence to reject H0. The data probably DO follow Benford's Law\"}"
      ]
     },
     "execution_count": 9,
     "metadata": {},
     "output_type": "execute_result"
    },
    {
     "data": {
      "image/png": "[encoded data removed]",
      "text/plain": [
       "<Figure size 432x288 with 1 Axes>"
      ]
     },
     "metadata": {},
     "output_type": "display_data"
    }
   ],
   "source": [
    "benfords_test(planets['orbital_period'])"
   ]
  },
  {
   "cell_type": "code",
   "execution_count": 10,
   "id": "published-station",
   "metadata": {},
   "outputs": [
    {
     "data": {
      "text/plain": [
       "{'Chi-Square Parameter': 0.8372,\n",
       " 'P-value': 1.0,\n",
       " 'Significance': \"There is insufficient evidence to reject H0. The data probably DO follow Benford's Law\"}"
      ]
     },
     "execution_count": 10,
     "metadata": {},
     "output_type": "execute_result"
    },
    {
     "data": {
      "image/png": "[encoded data removed]",
      "text/plain": [
       "<Figure size 432x288 with 1 Axes>"
      ]
     },
     "metadata": {},
     "output_type": "display_data"
    }
   ],
   "source": [
    "benfords_test(planets['mass'])"
   ]
  },
  {
   "cell_type": "code",
   "execution_count": 11,
   "id": "referenced-fluid",
   "metadata": {},
   "outputs": [
    {
     "data": {
      "text/plain": [
       "{'Chi-Square Parameter': 0.221,\n",
       " 'P-value': 1.0,\n",
       " 'Significance': \"There is insufficient evidence to reject H0. The data probably DO follow Benford's Law\"}"
      ]
     },
     "execution_count": 11,
     "metadata": {},
     "output_type": "execute_result"
    },
    {
     "data": {
      "image/png": "[encoded data removed]",
      "text/plain": [
       "<Figure size 432x288 with 1 Axes>"
      ]
     },
     "metadata": {},
     "output_type": "display_data"
    }
   ],
   "source": [
    "geometric_series = [2**i for i in range(100)]\n",
    "\n",
    "benfords_test(geometric_series)"
   ]
  },
  {
   "cell_type": "markdown",
   "id": "complex-necessity",
   "metadata": {},
   "source": [
    "---\n",
    "## Interesting!\n",
    "---"
   ]
  }
 ],
 "metadata": {
  "kernelspec": {
   "display_name": "Python 3",
   "language": "python",
   "name": "python3"
  },
  "language_info": {
   "codemirror_mode": {
    "name": "ipython",
    "version": 3
   },
   "file_extension": ".py",
   "mimetype": "text/x-python",
   "name": "python",
   "nbconvert_exporter": "python",
   "pygments_lexer": "ipython3",
   "version": "3.7.9"
  }
 },
 "nbformat": 4,
 "nbformat_minor": 5
}
